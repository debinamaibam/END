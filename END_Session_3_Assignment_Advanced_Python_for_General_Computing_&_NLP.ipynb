{
  "nbformat": 4,
  "nbformat_minor": 0,
  "metadata": {
    "colab": {
      "name": "END Session 3 Assignment - Advanced Python for General Computing & NLP.ipynb",
      "provenance": [],
      "collapsed_sections": []
    },
    "kernelspec": {
      "name": "python3",
      "display_name": "Python 3"
    }
  },
  "cells": [
    {
      "cell_type": "markdown",
      "metadata": {
        "id": "AEPbV7gSFw_J"
      },
      "source": [
        "**Session 3 - Advanced Python for General Computing & NLP**"
      ]
    },
    {
      "cell_type": "markdown",
      "metadata": {
        "id": "_zH9iSTzMKEE"
      },
      "source": [
        "**Group Members**  \n",
        "bhagabat.prasad123@gmail.com  \n",
        "tonyjames1980@gmail.com  \n",
        "debina@iiitmanipur.ac.in  \n",
        "mutumjagat123@gmail.com  \n"
      ]
    },
    {
      "cell_type": "code",
      "metadata": {
        "id": "EBNg-H_tFwFE"
      },
      "source": [
        "import math\n",
        "from functools import reduce\n",
        "import random"
      ],
      "execution_count": 30,
      "outputs": []
    },
    {
      "cell_type": "markdown",
      "metadata": {
        "id": "SDQjWrz5GIGQ"
      },
      "source": [
        "**Problem 1. Write a function using only list filter lambda that can tell whether a number is a Fibonacci number or not. You can use a pre-calculated list/dict to store fab numbers till 10000**"
      ]
    },
    {
      "cell_type": "code",
      "metadata": {
        "id": "z_2k0ohu8JYf"
      },
      "source": [
        "def fib(n: int):\n",
        "  '''\n",
        "  Function to generate nth fabinocci number from the begining.\n",
        "  '''\n",
        "  if n < 2:\n",
        "    return 1\n",
        "  else:\n",
        "    return fib(n-1) + fib(n-2)"
      ],
      "execution_count": 32,
      "outputs": []
    },
    {
      "cell_type": "code",
      "metadata": {
        "id": "6mEV39n0AVc0"
      },
      "source": [
        "# Loop to create a list of fabinocci numbers that are less than 10000.\n",
        "\n",
        "fib_list = []\n",
        "i = 0\n",
        "while True:\n",
        "  if fib(i) > 10000:\n",
        "    break\n",
        "  else:\n",
        "    fib_list.append(fib(i))\n",
        "    i+=1"
      ],
      "execution_count": 33,
      "outputs": []
    },
    {
      "cell_type": "code",
      "metadata": {
        "id": "DcI6-aqO8ofC"
      },
      "source": [
        "# Function that uses lambda and filter to check if a given number is fabinocci or not.\n",
        "\n",
        "def check_fabinocci(n:'int') -> 'bool':\n",
        "    '''\n",
        "    Parameters\n",
        "    ----------\n",
        "    n : 'int'\n",
        "        Takes an interger and decides if that is fabinocci number.\n",
        "\n",
        "    Returns\n",
        "    -------\n",
        "    bool\n",
        "        True or False for whether the number is fabinnocci number.\n",
        "    '''\n",
        "    if type(n) != int:\n",
        "        raise ValueError(\"Only integer is allowed as input\")\n",
        "    if n in list(filter(lambda x: x in fib_list, range(10000))):\n",
        "        return True\n",
        "    else:\n",
        "        return False"
      ],
      "execution_count": 34,
      "outputs": []
    },
    {
      "cell_type": "code",
      "metadata": {
        "id": "EndiULww-GuD",
        "outputId": "2246236e-fed0-47b0-b50e-60b6691ae78a",
        "colab": {
          "base_uri": "https://localhost:8080/"
        }
      },
      "source": [
        "# test for problem 1\n",
        "\n",
        "print(check_fabinocci(12))\n",
        "print(check_fabinocci(55))"
      ],
      "execution_count": 36,
      "outputs": [
        {
          "output_type": "stream",
          "text": [
            "False\n",
            "True\n"
          ],
          "name": "stdout"
        }
      ]
    },
    {
      "cell_type": "markdown",
      "metadata": {
        "id": "3dlx8JCTHWBc"
      },
      "source": [
        "**Problem 2: Using list comprehension (and zip/lambda/etc if required) write five different expressions that**"
      ]
    },
    {
      "cell_type": "markdown",
      "metadata": {
        "id": "GWXfdNIfHdBg"
      },
      "source": [
        "**Part 1**  \n",
        "add 2 iterables a and b such that a is even and b is odd"
      ]
    },
    {
      "cell_type": "code",
      "metadata": {
        "id": "i6X8zQSrE25-"
      },
      "source": [
        "def add_odd_even(l1:'list', l2:'list') -> 'list':\n",
        "    '''\n",
        "    Parameters\n",
        "    ----------\n",
        "    l1 : 'list'\n",
        "        First list of integers.\n",
        "    l2 : 'list'\n",
        "        Seecond list of integers.\n",
        "\n",
        "    Purpose\n",
        "    -------\n",
        "    The function adds corrsponding elements from the lists if element from first list is even and element from second list if odd\n",
        "\n",
        "    Raises\n",
        "    ------\n",
        "    ValueError\n",
        "        If any of the arguments is not a list, the function raises value error.\n",
        "\n",
        "    Returns\n",
        "    -------\n",
        "    list\n",
        "        List with added values from both the list based on odd even condition.\n",
        "    '''\n",
        "    if not (type(l1) == type(l2) == list):\n",
        "        raise ValueError(\"Both the arugments must be lists\")\n",
        "    return [x+y for x, y in zip(l1, l2) if (x%2 == 0) and (y%2 != 0)]"
      ],
      "execution_count": 37,
      "outputs": []
    },
    {
      "cell_type": "code",
      "metadata": {
        "id": "RA2F0dx6HlUj",
        "outputId": "e59c6da2-d98f-4a62-9720-cb5eebacfc72",
        "colab": {
          "base_uri": "https://localhost:8080/"
        }
      },
      "source": [
        "# test problem 2 - part 1\n",
        "l1 = [1, 5, 8, 3, 8, 0, 7]\n",
        "l2 = [3, 4, 1, 7, 5, 8, 9]\n",
        "add_odd_even(l1, l2)\n"
      ],
      "execution_count": 39,
      "outputs": [
        {
          "output_type": "execute_result",
          "data": {
            "text/plain": [
              "[9, 13]"
            ]
          },
          "metadata": {
            "tags": []
          },
          "execution_count": 39
        }
      ]
    },
    {
      "cell_type": "markdown",
      "metadata": {
        "id": "3NrDxDMRIBmY"
      },
      "source": [
        "**Part 2**  \n",
        "strips every vowel from a string provided (tsai>>t s)"
      ]
    },
    {
      "cell_type": "code",
      "metadata": {
        "id": "qRXBArqwE3_K"
      },
      "source": [
        "def strip_vowel(string:'str') -> 'str':\n",
        "    '''\n",
        "    Parameters\n",
        "    ----------\n",
        "    string : 'str'\n",
        "        A simple string of characters is allowed.\n",
        "\n",
        "    Raises\n",
        "    ------\n",
        "    ValueError\n",
        "        If anything other than a string is provided, the function raises value error.\n",
        "\n",
        "    Returns\n",
        "    -------\n",
        "    TYPE\n",
        "        A string after removal of vowel characters.\n",
        "    '''\n",
        "    if type(string) != str:\n",
        "        raise ValueError(\"Only string is allowed\")\n",
        "    return ''.join([s for s in string if s not in 'aeiouAEIOU'])"
      ],
      "execution_count": 40,
      "outputs": []
    },
    {
      "cell_type": "code",
      "metadata": {
        "id": "i-OqkjLNIJpC",
        "outputId": "6d8cc55d-b94e-4796-e5fe-de9a4668b1f6",
        "colab": {
          "base_uri": "https://localhost:8080/",
          "height": 35
        }
      },
      "source": [
        "# test problem 2 - part 2\n",
        "\n",
        "strip_vowel('tsai')"
      ],
      "execution_count": 41,
      "outputs": [
        {
          "output_type": "execute_result",
          "data": {
            "application/vnd.google.colaboratory.intrinsic+json": {
              "type": "string"
            },
            "text/plain": [
              "'ts'"
            ]
          },
          "metadata": {
            "tags": []
          },
          "execution_count": 41
        }
      ]
    },
    {
      "cell_type": "markdown",
      "metadata": {
        "id": "ipPOX6c1IUQE"
      },
      "source": [
        "**Part 3**  \n",
        "acts like a ReLU function for a 1D array"
      ]
    },
    {
      "cell_type": "code",
      "metadata": {
        "id": "NFzj2066E9oN"
      },
      "source": [
        "def relu(l:'list') -> 'list':\n",
        "    '''\n",
        "    Parameters\n",
        "    ----------\n",
        "    l : 'list'\n",
        "        List of intergers or floats.\n",
        "\n",
        "    Raises\n",
        "    ------\n",
        "    ValueError\n",
        "        The function raises value error if anything other than list as provided as argument.\n",
        "        Raises value error if any of the elements in the list is not an integer or float.\n",
        "\n",
        "    Returns\n",
        "    -------\n",
        "    list\n",
        "        List of intergers or floats after converting -ve number to zero.\n",
        "    '''\n",
        "    if type(l) != list:\n",
        "        raise ValueError(\"Only list is allowed as arugument here\")\n",
        "    for i in l:\n",
        "        if type(i) not in [int, float]:\n",
        "            raise ValueError(\"The elements in the list can only be integer or float\")\n",
        "    return [n if n>0 else 0 for n in l]"
      ],
      "execution_count": 42,
      "outputs": []
    },
    {
      "cell_type": "code",
      "metadata": {
        "id": "WkP1vCs4I7EM",
        "outputId": "913f5690-cbd4-4ffd-979b-ce716c50e6ed",
        "colab": {
          "base_uri": "https://localhost:8080/"
        }
      },
      "source": [
        "# test problem 2 - part 3\n",
        "\n",
        "l = [-2, 3, 0, 5, -4, -2, 1]\n",
        "relu(l)"
      ],
      "execution_count": 43,
      "outputs": [
        {
          "output_type": "execute_result",
          "data": {
            "text/plain": [
              "[0, 3, 0, 5, 0, 0, 1]"
            ]
          },
          "metadata": {
            "tags": []
          },
          "execution_count": 43
        }
      ]
    },
    {
      "cell_type": "markdown",
      "metadata": {
        "id": "yj5yG-ptJELc"
      },
      "source": [
        "**Part 4**  \n",
        "acts like a sigmoid function for a 1D array"
      ]
    },
    {
      "cell_type": "code",
      "metadata": {
        "id": "m3Ze3DUsFCJx"
      },
      "source": [
        "def sigmoid(l:'list') -> 'list':\n",
        "    '''\n",
        "    Parameters\n",
        "    ----------\n",
        "    l : 'list'\n",
        "        List of intergers or floats.\n",
        "\n",
        "    Raises\n",
        "    ------\n",
        "    ValueError\n",
        "        The function raises value error if anything other than list as provided as argument.\n",
        "        Raises value error if any of the elements in the list is not an integer or float.\n",
        "\n",
        "    Returns\n",
        "    -------\n",
        "    list\n",
        "        List of intergers or floats after converting each number to its sigmoid value.\n",
        "    '''\n",
        "    if type(l) != list:\n",
        "        raise ValueError(\"Only list is allowed as arugument here\")\n",
        "    for i in l:\n",
        "        if type(i) not in [int, float]:\n",
        "            raise ValueError(\"The elements in the list can only be integer or float\")\n",
        "    return [(1 / (1 + math.exp(-n))) for n in l]"
      ],
      "execution_count": 23,
      "outputs": []
    },
    {
      "cell_type": "code",
      "metadata": {
        "id": "4yREwN9YJKqO",
        "outputId": "bcece69c-5bd2-4cd2-fff6-f5eded095c2d",
        "colab": {
          "base_uri": "https://localhost:8080/"
        }
      },
      "source": [
        "# test problem 2 - part 4\n",
        "\n",
        "l = [-2, 3, 0, 5, -4, -2, 1]\n",
        "sigmoid(l)"
      ],
      "execution_count": 44,
      "outputs": [
        {
          "output_type": "execute_result",
          "data": {
            "text/plain": [
              "[0.11920292202211755,\n",
              " 0.9525741268224334,\n",
              " 0.5,\n",
              " 0.9933071490757153,\n",
              " 0.01798620996209156,\n",
              " 0.11920292202211755,\n",
              " 0.7310585786300049]"
            ]
          },
          "metadata": {
            "tags": []
          },
          "execution_count": 44
        }
      ]
    },
    {
      "cell_type": "markdown",
      "metadata": {
        "id": "fEA6RHAJJWV6"
      },
      "source": [
        "**Part 5**  \n",
        "takes a small character string and shifts all characters by 5 (handle boundary conditions) tsai>>yxfn"
      ]
    },
    {
      "cell_type": "code",
      "metadata": {
        "id": "MlmSaTIpFKJq"
      },
      "source": [
        "def shift_string(string:'str') -> 'str':\n",
        "    '''\n",
        "    Parameters\n",
        "    ----------\n",
        "    string : 'str'\n",
        "        Takes a string of characters. Capital letters are allowed however the function converts them to lower characters.\n",
        "        Only a to z characters are considered from the given string programatically.\n",
        "\n",
        "    Raises\n",
        "    ------\n",
        "    ValueError\n",
        "        If anything other than a string is given then the functions raises value error.\n",
        "\n",
        "    Returns\n",
        "    -------\n",
        "    TYPE\n",
        "        The function shifts each letter in the string to its next 5th position and then concatenates them to return the updated string.\n",
        "    '''\n",
        "    if type(string) != str:\n",
        "        raise ValueError(\"Only string is allowed\")\n",
        "    string = string.lower()\n",
        "    ls = [((ord(s)-96) + 5)%26 for s in string if ord(s) in range(97, 123)]\n",
        "    return ''.join([chr(n+96) for n in ls])"
      ],
      "execution_count": 45,
      "outputs": []
    },
    {
      "cell_type": "code",
      "metadata": {
        "id": "w0D0LEIZJa8r",
        "outputId": "4187a782-ee9d-4583-bed9-f57d8f3ec7ab",
        "colab": {
          "base_uri": "https://localhost:8080/",
          "height": 35
        }
      },
      "source": [
        "# test problem 2 - part 5\n",
        "\n",
        "shift_string('tsai')"
      ],
      "execution_count": 46,
      "outputs": [
        {
          "output_type": "execute_result",
          "data": {
            "application/vnd.google.colaboratory.intrinsic+json": {
              "type": "string"
            },
            "text/plain": [
              "'yxfn'"
            ]
          },
          "metadata": {
            "tags": []
          },
          "execution_count": 46
        }
      ]
    },
    {
      "cell_type": "markdown",
      "metadata": {
        "id": "uWUQCdKFJjZq"
      },
      "source": [
        "**Problem 3: A list comprehension expression that takes a ~200 word paragraph (write your own paragraph to check), and checks whether it has any of the swear words mentioned in https://github.com/RobertJGabriel/Google-profanity-words/blob/master/list.txt PTS:200**"
      ]
    },
    {
      "cell_type": "code",
      "metadata": {
        "id": "SUS9NW9yFRdB"
      },
      "source": [
        "def find_profanity(pg:'str') -> 'bool':\n",
        "    '''\n",
        "    Parameters\n",
        "    ----------\n",
        "    pg : 'string'\n",
        "        A string of paragraph with more than 200 words.\n",
        "\n",
        "    Raises\n",
        "    ------\n",
        "    ValueError\n",
        "        If anything other than a string or a string with lower than 200 words are given, it raises value error.\n",
        "\n",
        "    Returns\n",
        "    -------\n",
        "    TYPE\n",
        "        If checks if there is any presence of profanity words in the given paragraph and returns True or False accordingly.\n",
        "        Source of profanity words: https://github.com/RobertJGabriel/Google-profanity-words/blob/master/list.txt\n",
        "    '''\n",
        "    profanity_list=[line.strip() for line in open('profanity.txt')]\n",
        "    if type(pg) != str:\n",
        "        raise ValueError(\"Only string is allowed\")\n",
        "    if len(pg.split()) < 200:\n",
        "        raise ValueError(\"String paragraph with minimum 200 words is required\")\n",
        "    return False or bool([p for p in pg.split() if p in profanity_list])"
      ],
      "execution_count": 47,
      "outputs": []
    },
    {
      "cell_type": "code",
      "metadata": {
        "id": "ZoJ6bQbkJu4L"
      },
      "source": [
        "prof_pg = \" t t t t t t t t t t t t t t t t t t t t t arse tDear Aditya, A good workforce of any establishment or factory is a asset and there is no harm if the HR indulge into settlement of any sort of complaint / dispute whether within or outside the premises. Moreover, I do not feel any harm if the HR even get involve into personal issues of the workforce. I remember, when I was in service, I had settled certain minor disputes within the family of workers or their friend circle, understand their problems whether relating to the school admission of their wards or medical treatment of their parents etc. etc. by advancing money either from my employer or from my own pocket. At the same time taking appropriate disciplinary action against the guilty is equally important to maintain discipline and peaceful working. In this particular case, if the employee has used abusive language through email it is on the record and HR can go through it, understand the circumstances and situations and decide further action. It is a goodwill gesture and you can win over the hearts of the workforce. They will definitely listen to your directions always. read more at: https://www.citehr.com/502881-abusive-language-used-employee-email.html\""
      ],
      "execution_count": 49,
      "outputs": []
    },
    {
      "cell_type": "code",
      "metadata": {
        "id": "lfV_fKyVKKVD",
        "outputId": "bee9d4bd-e434-4200-e8bf-00958fb1bfb9",
        "colab": {
          "base_uri": "https://localhost:8080/"
        }
      },
      "source": [
        "# test problem 3\n",
        "\n",
        "find_profanity(prof_pg)"
      ],
      "execution_count": 50,
      "outputs": [
        {
          "output_type": "execute_result",
          "data": {
            "text/plain": [
              "True"
            ]
          },
          "metadata": {
            "tags": []
          },
          "execution_count": 50
        }
      ]
    },
    {
      "cell_type": "markdown",
      "metadata": {
        "id": "8cW3sk8_KQ87"
      },
      "source": [
        "**Problem 4 - Using reduce functions**"
      ]
    },
    {
      "cell_type": "markdown",
      "metadata": {
        "id": "J7vXkVQKKYev"
      },
      "source": [
        "**Part 1**  \n",
        "add only even numbers in a list"
      ]
    },
    {
      "cell_type": "code",
      "metadata": {
        "id": "WknpUqwIFbkC"
      },
      "source": [
        "def reduce_sum_even(l:'list') -> 'int':\n",
        "    '''\n",
        "    Parameters\n",
        "    ----------\n",
        "    l : 'list'\n",
        "        List of integers as input.\n",
        "\n",
        "    Raises\n",
        "    ------\n",
        "    ValueError\n",
        "        If anything other than a list or a list other than intergers are given, it raises value error.\n",
        "\n",
        "    Returns\n",
        "    -------\n",
        "    TYPE\n",
        "        It adds the even numbers from the list and gives the result.\n",
        "    '''\n",
        "    if type(l) != list:\n",
        "        raise ValueError(\"Only a list of numbers is allowed\")\n",
        "    for i in l:\n",
        "        if type(i) != int:\n",
        "            raise ValueError(\"Only integers are allowed in the input list\")\n",
        "    return reduce(lambda a, b: a + (b if b % 2 == 0 else 0), l, 0)"
      ],
      "execution_count": 51,
      "outputs": []
    },
    {
      "cell_type": "code",
      "metadata": {
        "id": "2PTJW4AkKnSI",
        "outputId": "2b8dbdd8-9749-4c00-8eb3-23fb33a44ead",
        "colab": {
          "base_uri": "https://localhost:8080/"
        }
      },
      "source": [
        "# test problem 4 - part 1\n",
        "\n",
        "l = [2, 3, 0, 5, 4, 2, 1]\n",
        "reduce_sum_even(l)"
      ],
      "execution_count": 54,
      "outputs": [
        {
          "output_type": "execute_result",
          "data": {
            "text/plain": [
              "8"
            ]
          },
          "metadata": {
            "tags": []
          },
          "execution_count": 54
        }
      ]
    },
    {
      "cell_type": "markdown",
      "metadata": {
        "id": "sJCx2pc0K_45"
      },
      "source": [
        "**Part 2**  \n",
        "find the biggest character in a string (printable ascii characters)"
      ]
    },
    {
      "cell_type": "code",
      "metadata": {
        "id": "5zbECjqPFc1j"
      },
      "source": [
        "def reduce_big_str(string:'str') -> 'str':\n",
        "    '''\n",
        "    Parameters\n",
        "    ----------\n",
        "    string : 'str'\n",
        "        A simple string whatever printable characters.\n",
        "\n",
        "    Raises\n",
        "    ------\n",
        "    ValueError\n",
        "        If the input is other than string then it raises value error.\n",
        "\n",
        "    Returns\n",
        "    -------\n",
        "    TYPE\n",
        "        It finds the character in the string with higest ASCII number and returns that.\n",
        "    '''\n",
        "    if type(string) != str:\n",
        "        raise ValueError(\"Only string is allowed\")\n",
        "    return reduce(lambda a, b: max(a, b), string)"
      ],
      "execution_count": 55,
      "outputs": []
    },
    {
      "cell_type": "code",
      "metadata": {
        "id": "O9-1BLx8LKH7",
        "outputId": "633d91f4-68dd-4a41-a755-19aa221138b9",
        "colab": {
          "base_uri": "https://localhost:8080/",
          "height": 35
        }
      },
      "source": [
        "# test problem 4 - part 2\n",
        "\n",
        "reduce_big_str('testingyyyy')"
      ],
      "execution_count": 56,
      "outputs": [
        {
          "output_type": "execute_result",
          "data": {
            "application/vnd.google.colaboratory.intrinsic+json": {
              "type": "string"
            },
            "text/plain": [
              "'y'"
            ]
          },
          "metadata": {
            "tags": []
          },
          "execution_count": 56
        }
      ]
    },
    {
      "cell_type": "markdown",
      "metadata": {
        "id": "lfN8wzjELN7B"
      },
      "source": [
        "**Part 3**  \n",
        "adds every 3rd number in a list"
      ]
    },
    {
      "cell_type": "code",
      "metadata": {
        "id": "r38iz2NgFgQW"
      },
      "source": [
        "def add_third_number(l:'list') -> 'int':\n",
        "    '''\n",
        "    Parameters\n",
        "    ----------\n",
        "    l : 'list'\n",
        "        A list of integers.\n",
        "\n",
        "    Raises\n",
        "    ------\n",
        "    ValueError\n",
        "        If anything other than list or a list of other than integers are given then it raises value error.\n",
        "\n",
        "    Returns\n",
        "    -------\n",
        "    TYPE\n",
        "        The function adds all the elements from every third positions from each other in the list and returns the value.\n",
        "    '''\n",
        "    if type(l) != list:\n",
        "        raise ValueError(\"Only a list of numbers is allowed\")\n",
        "    for i in l:\n",
        "        if type(i) != int:\n",
        "            raise ValueError(\"Only integers are allowed in the input list\")\n",
        "    return reduce(lambda a, b: a+b, l[::3])"
      ],
      "execution_count": 57,
      "outputs": []
    },
    {
      "cell_type": "code",
      "metadata": {
        "id": "7XtMjqtrLXOp",
        "outputId": "f48b5dd9-33ea-4e50-da25-6eab01f98739",
        "colab": {
          "base_uri": "https://localhost:8080/"
        }
      },
      "source": [
        "# test problem 4 - part 3\n",
        "\n",
        "add_third_number([1,2,3,4,5,6,7])"
      ],
      "execution_count": 58,
      "outputs": [
        {
          "output_type": "execute_result",
          "data": {
            "text/plain": [
              "12"
            ]
          },
          "metadata": {
            "tags": []
          },
          "execution_count": 58
        }
      ]
    },
    {
      "cell_type": "markdown",
      "metadata": {
        "id": "ho0cToe0LaYg"
      },
      "source": [
        "**Problem 5: Using randint, random.choice and list comprehensions, write an expression that generates 15 random KADDAADDDD number plates, where KA is fixed, D stands for a digit, and A stands for Capital alphabets. 10<<DD<<99 & 1000<<DDDD<<9999**  \n"
      ]
    },
    {
      "cell_type": "code",
      "metadata": {
        "id": "QZwZ0E74CPWu"
      },
      "source": [
        "def random_number_plates(state_code:'str'='KA') -> 'list':\n",
        "    '''\n",
        "    Parameters\n",
        "    ----------\n",
        "    state_code : 'str', optional\n",
        "        A string of two capital letters. The default is 'KA'.\n",
        "\n",
        "    Raises\n",
        "    ------\n",
        "    ValueError\n",
        "        If anything other than a string or a string with length not equal to 2.\n",
        "        If any of the characters from the string is not within A to Z\n",
        "\n",
        "    Returns\n",
        "    -------\n",
        "    list\n",
        "        It generates random number between 10 and 99 and another from 1000 and 9999 and concatenates them with given state code to create number plate.\n",
        "        It creates 15 such random number plates and returns them as a list.\n",
        "    '''\n",
        "    if (type(state_code) != str) or (len(state_code) != 2):\n",
        "        raise ValueError(\"Only a string of length two is allowed\")\n",
        "    for s in state_code:\n",
        "        if (ord(s) < 65) or (ord(s) > 90):\n",
        "            raise ValueError(\"Only a string of two capital letters is allowed\")\n",
        "    return [state_code + str(random.randint(10, 99)) + str(random.randint(1000, 9999)) for _ in range(15)]"
      ],
      "execution_count": 59,
      "outputs": []
    },
    {
      "cell_type": "code",
      "metadata": {
        "id": "idMulbEkLlHC",
        "outputId": "adc6f98b-0d40-4350-f733-2cee2b650e57",
        "colab": {
          "base_uri": "https://localhost:8080/"
        }
      },
      "source": [
        "# test problem 5\n",
        "\n",
        "random_number_plates()"
      ],
      "execution_count": 60,
      "outputs": [
        {
          "output_type": "execute_result",
          "data": {
            "text/plain": [
              "['KA732373',\n",
              " 'KA849493',\n",
              " 'KA346970',\n",
              " 'KA538470',\n",
              " 'KA777983',\n",
              " 'KA836197',\n",
              " 'KA751432',\n",
              " 'KA317756',\n",
              " 'KA958004',\n",
              " 'KA795900',\n",
              " 'KA906741',\n",
              " 'KA882846',\n",
              " 'KA115008',\n",
              " 'KA304107',\n",
              " 'KA107785']"
            ]
          },
          "metadata": {
            "tags": []
          },
          "execution_count": 60
        }
      ]
    },
    {
      "cell_type": "markdown",
      "metadata": {
        "id": "skJ7o-ihLxC4"
      },
      "source": [
        "**Problem 6: Write the above again from scratch where KA can be changed to DL, and 1000/9999 ranges can be provided**"
      ]
    },
    {
      "cell_type": "code",
      "metadata": {
        "id": "84k9plcQCmGN"
      },
      "source": [
        "def number_plates(state_code:'str'='KA', nl:'int'=1000, nu:'int'=9999) -> 'list':\n",
        "    '''\n",
        "    Parameters\n",
        "    ----------\n",
        "    state_code : 'str', optional\n",
        "        A string of two capital letters. The default is 'KA'.. The default is 'KA'.\n",
        "    nl : 'int', optional\n",
        "        Lower limit of the number plate. The default is 1000.\n",
        "    nu : 'int', optional\n",
        "        Upper limit of the number plate. The default is 9999.\n",
        "\n",
        "    Raises\n",
        "    ------\n",
        "    ValueError\n",
        "        If anything other than a string or a string with length not equal to 2.\n",
        "        If any of the characters from the string is not within A to Z.\n",
        "        If any of lower and upper limits is not an interger.\n",
        "        If lower limit is greater than upper limit.\n",
        "\n",
        "    Returns\n",
        "    -------\n",
        "    list\n",
        "        It generates random number between 10 and 99 and another from 1000 and 9999 and concatenates them with given state code to create number plate.\n",
        "        It creates 15 such random number plates and returns them as a list.\n",
        "    '''\n",
        "    if (type(state_code) != str) or (len(state_code) != 2):\n",
        "        raise ValueError(\"Only a string of length two is allowed\")\n",
        "    for s in state_code:\n",
        "        if (ord(s) < 65) or (ord(s) > 90):\n",
        "            raise ValueError(\"Only a string of two capital letters is allowed\")\n",
        "    if (type(nl) != int) or (len(str(nl)) != 4):\n",
        "        raise ValueError(\"Lower limit has to be a four digit number\")\n",
        "    if (type(nu) != int) or (len(str(nu)) != 4):\n",
        "        raise ValueError(\"Upper limit has to be a four digit number\")\n",
        "    if nu <= nl:\n",
        "        raise ValueError(\"Upper limit must be greater than lower limit\")\n",
        "    return [state_code + str(random.randint(10, 99)) + str(random.randint(nl, nu)) for _ in range(15)]"
      ],
      "execution_count": 62,
      "outputs": []
    },
    {
      "cell_type": "code",
      "metadata": {
        "id": "wC_8fLRCLkKL",
        "outputId": "9d156264-e3e4-476a-d7d0-e0a8f4051d4f",
        "colab": {
          "base_uri": "https://localhost:8080/"
        }
      },
      "source": [
        "# test problem 6\n",
        "\n",
        "number_plates('DL')"
      ],
      "execution_count": 63,
      "outputs": [
        {
          "output_type": "execute_result",
          "data": {
            "text/plain": [
              "['DL967983',\n",
              " 'DL555592',\n",
              " 'DL538897',\n",
              " 'DL867321',\n",
              " 'DL799996',\n",
              " 'DL892804',\n",
              " 'DL649045',\n",
              " 'DL679290',\n",
              " 'DL911755',\n",
              " 'DL135818',\n",
              " 'DL716267',\n",
              " 'DL315824',\n",
              " 'DL119411',\n",
              " 'DL179741',\n",
              " 'DL339597']"
            ]
          },
          "metadata": {
            "tags": []
          },
          "execution_count": 63
        }
      ]
    }
  ]
}